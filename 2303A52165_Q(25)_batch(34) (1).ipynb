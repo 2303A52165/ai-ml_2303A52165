{
  "nbformat": 4,
  "nbformat_minor": 0,
  "metadata": {
    "colab": {
      "provenance": []
    },
    "kernelspec": {
      "name": "python3",
      "display_name": "Python 3"
    },
    "language_info": {
      "name": "python"
    }
  },
  "cells": [
    {
      "cell_type": "code",
      "execution_count": 10,
      "metadata": {
        "id": "IrL8rb1hmtCp"
      },
      "outputs": [],
      "source": [
        "import pandas as pd\n",
        "from sklearn.cluster import KMeans\n",
        "from sklearn.preprocessing import StandardScaler\n",
        "\n",
        "file_path = '/content/buddymove+data+set (1).zip'\n",
        "data = pd.read_csv(file_path)"
      ]
    },
    {
      "cell_type": "code",
      "source": [
        "attribute_means = data.drop(columns=['User Id']).mean().sort_values(ascending=False)\n",
        "\n",
        "top_5_attributes = attribute_means.head(5)\n",
        "print(\"Top 5 Attributes for South India Destinations:\")\n",
        "print(top_5_attributes)"
      ],
      "metadata": {
        "colab": {
          "base_uri": "https://localhost:8080/"
        },
        "id": "WELqUmPAoA37",
        "outputId": "5592bbc7-9337-4463-83a5-3c7db030e3dd"
      },
      "execution_count": 11,
      "outputs": [
        {
          "output_type": "stream",
          "name": "stdout",
          "text": [
            "Top 5 Attributes for South India Destinations:\n",
            "Nature       124.518072\n",
            "Picnic       120.401606\n",
            "Theatre      116.377510\n",
            "Shopping     112.638554\n",
            "Religious    109.779116\n",
            "dtype: float64\n"
          ]
        }
      ]
    },
    {
      "cell_type": "code",
      "source": [
        "most_liked_attribute = attribute_means.idxmax(), attribute_means.max()\n",
        "print(\"\\nAttribute with Most Liked Travel Spots:\", most_liked_attribute)"
      ],
      "metadata": {
        "colab": {
          "base_uri": "https://localhost:8080/"
        },
        "id": "svClzFcMoFnq",
        "outputId": "12d7d619-9085-4694-ade9-88c5e31c909c"
      },
      "execution_count": 12,
      "outputs": [
        {
          "output_type": "stream",
          "name": "stdout",
          "text": [
            "\n",
            "Attribute with Most Liked Travel Spots: ('Nature', 124.51807228915662)\n"
          ]
        }
      ]
    },
    {
      "cell_type": "code",
      "source": [
        "max_attribute = attribute_means.idxmax(), attribute_means.max()\n",
        "min_attribute = attribute_means.idxmin(), attribute_means.min()\n",
        "\n",
        "print(\"\\nMaximum Attribute of Choice:\", max_attribute)\n",
        "print(\"Minimum Attribute of Choice:\", min_attribute)"
      ],
      "metadata": {
        "colab": {
          "base_uri": "https://localhost:8080/"
        },
        "id": "dekJBHqToJDu",
        "outputId": "7dbe2e33-3fc5-4dc6-95b7-19bccf6fe242"
      },
      "execution_count": 13,
      "outputs": [
        {
          "output_type": "stream",
          "name": "stdout",
          "text": [
            "\n",
            "Maximum Attribute of Choice: ('Nature', 124.51807228915662)\n",
            "Minimum Attribute of Choice: ('Sports', 11.987951807228916)\n"
          ]
        }
      ]
    },
    {
      "cell_type": "code",
      "source": [
        "role_analysis = data[['Nature', 'Picnic', 'Theatre', 'Shopping']].mean()\n",
        "\n",
        "print(\"\\nRole Analysis for Beaches, Theatres, Malls, and Parks:\")\n",
        "print(role_analysis)"
      ],
      "metadata": {
        "colab": {
          "base_uri": "https://localhost:8080/"
        },
        "id": "lSh1yjaDoLT6",
        "outputId": "7d45c40d-39bf-4c0b-928a-c32a7311a507"
      },
      "execution_count": 14,
      "outputs": [
        {
          "output_type": "stream",
          "name": "stdout",
          "text": [
            "\n",
            "Role Analysis for Beaches, Theatres, Malls, and Parks:\n",
            "Nature      124.518072\n",
            "Picnic      120.401606\n",
            "Theatre     116.377510\n",
            "Shopping    112.638554\n",
            "dtype: float64\n"
          ]
        }
      ]
    },
    {
      "cell_type": "code",
      "source": [
        "sports_attribute_mean = data['Sports'].mean()\n",
        "print(\"\\nSports Attribute Mean Rating:\", sports_attribute_mean)"
      ],
      "metadata": {
        "colab": {
          "base_uri": "https://localhost:8080/"
        },
        "id": "0hhnbu1foOcy",
        "outputId": "6519cd01-cb0d-4b78-f6b2-cc8b3636bb4f"
      },
      "execution_count": 15,
      "outputs": [
        {
          "output_type": "stream",
          "name": "stdout",
          "text": [
            "\n",
            "Sports Attribute Mean Rating: 11.987951807228916\n"
          ]
        }
      ]
    },
    {
      "cell_type": "code",
      "source": [
        "import pandas as pd\n",
        "from sklearn.preprocessing import StandardScaler\n",
        "from sklearn.cluster import KMeans\n",
        "\n",
        "# Assuming 'data' is your DataFrame containing the features for clustering\n",
        "# Replace 'features_for_clustering' with the actual column names\n",
        "# you want to use for clustering\n",
        "features_for_clustering = ['Nature', 'Picnic', 'Theatre', 'Shopping', 'Sports']\n",
        "X = data[features_for_clustering]\n",
        "\n",
        "# Scale the features using StandardScaler\n",
        "scaler = StandardScaler()\n",
        "X_scaled = scaler.fit_transform(X)\n"
      ],
      "metadata": {
        "id": "sL9UEXRNoVYc"
      },
      "execution_count": 17,
      "outputs": []
    },
    {
      "cell_type": "code",
      "source": [
        "X = data.drop(columns=['User Id'])\n",
        "scaler = StandardScaler()\n",
        "X_scaled = scaler.fit_transform(X)"
      ],
      "metadata": {
        "id": "-kLIhRhCoYyC"
      },
      "execution_count": 18,
      "outputs": []
    },
    {
      "cell_type": "code",
      "source": [
        "kmeans = KMeans(n_clusters=3, random_state=42)\n",
        "clusters = kmeans.fit_predict(X_scaled)\n",
        "\n",
        "data['Cluster'] = clusters\n",
        "\n",
        "print(\"\\nCluster Distribution:\")\n",
        "print(data['Cluster'].value_counts())"
      ],
      "metadata": {
        "colab": {
          "base_uri": "https://localhost:8080/"
        },
        "id": "yPdE6MTxpeYt",
        "outputId": "26d13c74-7d38-4888-af97-ea78a3604339"
      },
      "execution_count": 19,
      "outputs": [
        {
          "output_type": "stream",
          "name": "stdout",
          "text": [
            "\n",
            "Cluster Distribution:\n",
            "Cluster\n",
            "2    114\n",
            "0     79\n",
            "1     56\n",
            "Name: count, dtype: int64\n"
          ]
        }
      ]
    }
  ]
}